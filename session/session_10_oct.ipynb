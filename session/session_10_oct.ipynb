{
 "cells": [
  {
   "cell_type": "markdown",
   "metadata": {},
   "source": [
    "## Modify a DataFrame /w Pandas\n",
    "* **Tukey Intermediate**\n",
    "\n",
    "> Oct 10°, 2024"
   ]
  },
  {
   "cell_type": "markdown",
   "metadata": {},
   "source": [
    "* First we need to **import** all the **libraries** we are going to use"
   ]
  },
  {
   "cell_type": "code",
   "execution_count": 1,
   "metadata": {},
   "outputs": [],
   "source": [
    "import pandas as pd"
   ]
  },
  {
   "cell_type": "markdown",
   "metadata": {},
   "source": [
    "##### Now we how can we **add columns** using **constant values** "
   ]
  },
  {
   "cell_type": "code",
   "execution_count": 2,
   "metadata": {},
   "outputs": [
    {
     "name": "stdout",
     "output_type": "stream",
     "text": [
      "   A  B   C               D\n",
      "0  1  4  10  constant_value\n",
      "1  2  5  10  constant_value\n",
      "2  3  6  10  constant_value\n"
     ]
    }
   ],
   "source": [
    "# Step 1: Create a DataFrame\n",
    "df = pd.DataFrame({\n",
    "    'A': [1, 2, 3],\n",
    "    'B': [4, 5, 6]\n",
    "})\n",
    "\n",
    "# Step 2: Add new columns with constant values\n",
    "df['C'] = 10\n",
    "df['D'] = 'constant_value'\n",
    "\n",
    "print(df)"
   ]
  },
  {
   "cell_type": "markdown",
   "metadata": {},
   "source": [
    "##### How to create columns using **operations between other columns**"
   ]
  },
  {
   "cell_type": "code",
   "execution_count": 3,
   "metadata": {},
   "outputs": [
    {
     "name": "stdout",
     "output_type": "stream",
     "text": [
      "   A  B  C   D  E\n",
      "0  1  4  5   4  3\n",
      "1  2  5  7  10  3\n",
      "2  3  6  9  18  3\n"
     ]
    }
   ],
   "source": [
    "# Step 1: Create a DataFrame\n",
    "df = pd.DataFrame({\n",
    "    'A': [1, 2, 3],\n",
    "    'B': [4, 5, 6]\n",
    "})\n",
    "\n",
    "# Step 2: Add new columns based on operations between existing columns\n",
    "df['C'] = df['A'] + df['B']  # Sum of columns A and B\n",
    "df['D'] = df['A'] * df['B']  # Product of columns A and B\n",
    "df['E'] = df['B'] - df['A']  # Difference between columns B and A\n",
    "\n",
    "print(df)"
   ]
  },
  {
   "cell_type": "markdown",
   "metadata": {},
   "source": [
    "##### How to create colunms using the function **apply()**"
   ]
  },
  {
   "cell_type": "code",
   "execution_count": 5,
   "metadata": {},
   "outputs": [
    {
     "name": "stdout",
     "output_type": "stream",
     "text": [
      "   A  B  C   D  E\n",
      "0  1  4  5   4  3\n",
      "1  2  5  7  10  3\n",
      "2  3  6  9  18  3\n"
     ]
    }
   ],
   "source": [
    "# Step 1: Create a DataFrame\n",
    "df = pd.DataFrame({\n",
    "    'A': [1, 2, 3],\n",
    "    'B': [4, 5, 6]\n",
    "})\n",
    "\n",
    "# Step 3: Define functions for operations\n",
    "def sum_columns(row):\n",
    "    return row['A'] + row['B']\n",
    "\n",
    "def product_columns(row):\n",
    "    return row['A'] * row['B']\n",
    "\n",
    "def difference_columns(row):\n",
    "    return row['B'] - row['A']\n",
    "\n",
    "# Step 4: Use apply to create new columns\n",
    "df['C'] = df.apply(sum_columns, axis=1)\n",
    "df['D'] = df.apply(product_columns, axis=1)\n",
    "df['E'] = df.apply(difference_columns, axis=1)\n",
    "\n",
    "# df['C'] = df.apply(lambda row: sum_columns(row), axis=1)\n",
    "# df['D'] = df.apply(lambda row: product_columns(row), axis=1)\n",
    "# df['E'] = df.apply(lambda row: difference_columns(row), axis=1)\n",
    "\n",
    "\n",
    "print(df)"
   ]
  },
  {
   "cell_type": "markdown",
   "metadata": {},
   "source": [
    "##### How to **order by specific columns**"
   ]
  },
  {
   "cell_type": "code",
   "execution_count": 6,
   "metadata": {},
   "outputs": [
    {
     "name": "stdout",
     "output_type": "stream",
     "text": [
      "   A  B\n",
      "1  1  5\n",
      "2  2  4\n",
      "0  3  6\n"
     ]
    }
   ],
   "source": [
    "# Step 1: Create a DataFrame\n",
    "df = pd.DataFrame({\n",
    "    'A': [3, 1, 2],\n",
    "    'B': [6, 5, 4]\n",
    "})\n",
    "\n",
    "# Step 2: Sort the DataFrame by column 'A'\n",
    "df_sorted = df.sort_values(by='A')\n",
    "\n",
    "print(df_sorted)"
   ]
  },
  {
   "cell_type": "markdown",
   "metadata": {},
   "source": [
    "> If you want to sort by multiple columns, you can pass a list of column names to the by parameter. You can also specify the sorting order for each column using the ascending parameter."
   ]
  },
  {
   "cell_type": "code",
   "execution_count": 7,
   "metadata": {},
   "outputs": [
    {
     "name": "stdout",
     "output_type": "stream",
     "text": [
      "   A  B\n",
      "1  1  5\n",
      "2  2  4\n",
      "3  2  3\n",
      "0  3  6\n"
     ]
    }
   ],
   "source": [
    "# Step 1: Create a DataFrame\n",
    "df = pd.DataFrame({\n",
    "    'A': [3, 1, 2, 2],\n",
    "    'B': [6, 5, 4, 3]\n",
    "})\n",
    "\n",
    "# Step 2: Sort the DataFrame by columns 'A' and 'B'\n",
    "df_sorted = df.sort_values(by=['A', 'B'], ascending=[True, False])\n",
    "\n",
    "print(df_sorted)"
   ]
  },
  {
   "cell_type": "markdown",
   "metadata": {},
   "source": [
    "##### How to **identify** and **delete** **duplicated values** in specific column"
   ]
  },
  {
   "cell_type": "code",
   "execution_count": 8,
   "metadata": {},
   "outputs": [
    {
     "name": "stdout",
     "output_type": "stream",
     "text": [
      "Duplicated rows based on column 'A':\n",
      "   A  B   C\n",
      "2  2  6  11\n",
      "5  4  8  14\n",
      "\n",
      "DataFrame after deleting duplicates based on column 'A':\n",
      "   A  B   C\n",
      "0  1  5   9\n",
      "1  2  6  10\n",
      "3  3  7  12\n",
      "4  4  8  13\n"
     ]
    }
   ],
   "source": [
    "# Step 1: Create a DataFrame\n",
    "df = pd.DataFrame({\n",
    "    'A': [1, 2, 2, 3, 4, 4],\n",
    "    'B': [5, 6, 6, 7, 8, 8],\n",
    "    'C': [9, 10, 11, 12, 13, 14]\n",
    "})\n",
    "\n",
    "# Step 2: Identify duplicated values in column 'A'\n",
    "duplicates = df.duplicated(subset=['A'])\n",
    "print(\"Duplicated rows based on column 'A':\")\n",
    "print(df[duplicates])\n",
    "\n",
    "# Step 3: Delete duplicated values in column 'A'\n",
    "df_no_duplicates = df.drop_duplicates(subset=['A'])\n",
    "print(\"\\nDataFrame after deleting duplicates based on column 'A':\")\n",
    "print(df_no_duplicates)"
   ]
  },
  {
   "cell_type": "markdown",
   "metadata": {},
   "source": [
    "##### How to **identify** and **delete** **null values** in specific columns"
   ]
  },
  {
   "cell_type": "code",
   "execution_count": 9,
   "metadata": {},
   "outputs": [
    {
     "name": "stdout",
     "output_type": "stream",
     "text": [
      "Rows with null values in column 'A':\n",
      "    A    B  C\n",
      "2 NaN  3.0  3\n",
      "\n",
      "DataFrame after deleting rows with null values in column 'A':\n",
      "     A    B  C\n",
      "0  1.0  NaN  1\n",
      "1  2.0  2.0  2\n",
      "3  4.0  4.0  4\n",
      "4  5.0  NaN  5\n"
     ]
    }
   ],
   "source": [
    "# Step 1: Create a DataFrame\n",
    "df = pd.DataFrame({\n",
    "    'A': [1, 2, None, 4, 5],\n",
    "    'B': [None, 2, 3, 4, None],\n",
    "    'C': [1, 2, 3, 4, 5]\n",
    "})\n",
    "\n",
    "# Step 2: Identify null values in column 'A'\n",
    "null_values_A = df['A'].isnull()\n",
    "print(\"Rows with null values in column 'A':\")\n",
    "print(df[null_values_A])\n",
    "\n",
    "# Step 3: Delete rows with null values in column 'A'\n",
    "df_no_nulls_A = df.dropna(subset=['A'])\n",
    "print(\"\\nDataFrame after deleting rows with null values in column 'A':\")\n",
    "print(df_no_nulls_A)"
   ]
  },
  {
   "cell_type": "markdown",
   "metadata": {},
   "source": [
    "In this example:\n",
    "\n",
    "* The _isnull_ method is used to identify rows where the values in column 'A' are null.\n",
    "* The _dropna_ method is used to remove rows with null values in column 'A'."
   ]
  },
  {
   "cell_type": "markdown",
   "metadata": {},
   "source": [
    "You can also specify **multiple columns** to identify and delete rows with null values in any of those columns:"
   ]
  },
  {
   "cell_type": "code",
   "execution_count": 10,
   "metadata": {},
   "outputs": [
    {
     "name": "stdout",
     "output_type": "stream",
     "text": [
      "Rows with null values in columns 'A' or 'B':\n",
      "     A    B  C\n",
      "0  1.0  NaN  1\n",
      "2  NaN  3.0  3\n",
      "4  5.0  NaN  5\n",
      "\n",
      "DataFrame after deleting rows with null values in columns 'A' or 'B':\n",
      "     A    B  C\n",
      "1  2.0  2.0  2\n",
      "3  4.0  4.0  4\n"
     ]
    }
   ],
   "source": [
    "# Identify null values based on columns 'A' and 'B'\n",
    "null_values_AB = df[['A', 'B']].isnull().any(axis=1)\n",
    "print(\"Rows with null values in columns 'A' or 'B':\")\n",
    "print(df[null_values_AB])\n",
    "\n",
    "# Delete rows with null values based on columns 'A' and 'B'\n",
    "df_no_nulls_AB = df.dropna(subset=['A', 'B'])\n",
    "print(\"\\nDataFrame after deleting rows with null values in columns 'A' or 'B':\")\n",
    "print(df_no_nulls_AB)"
   ]
  },
  {
   "cell_type": "markdown",
   "metadata": {},
   "source": [
    "##### How to **replace values** in **specific columns**"
   ]
  },
  {
   "cell_type": "code",
   "execution_count": 11,
   "metadata": {},
   "outputs": [
    {
     "name": "stdout",
     "output_type": "stream",
     "text": [
      "     A   B    C\n",
      "0  100  50    9\n",
      "1  200   6  100\n",
      "2    3   7   11\n",
      "3    4   8   12\n",
      "4    5   9   13\n"
     ]
    }
   ],
   "source": [
    "# Step 1: Create a DataFrame\n",
    "df = pd.DataFrame({\n",
    "    'A': [1, 2, 3, 4, 5],\n",
    "    'B': [5, 6, 7, 8, 9],\n",
    "    'C': [9, 10, 11, 12, 13]\n",
    "})\n",
    "\n",
    "# Step 2: Replace values in column 'A'\n",
    "df['A'] = df['A'].replace({1: 100, 2: 200})\n",
    "\n",
    "# Replace values in multiple columns\n",
    "df[['B', 'C']] = df[['B', 'C']].replace({5: 50, 10: 100})\n",
    "\n",
    "print(df)"
   ]
  },
  {
   "cell_type": "markdown",
   "metadata": {},
   "source": [
    "In this example:\n",
    "\n",
    "* The replace method is used to replace values in column 'A'. The dictionary {1: 100, 2: 200} specifies that the value 1 should be replaced with 100 and the value 2 should be replaced with 200.\n",
    "* The replace method is also used to replace values in multiple columns ('B' and 'C'). The dictionary {5: 50, 10: 100} specifies that the value 5 should be replaced with 50 and the value 10 should be replaced with 100."
   ]
  },
  {
   "cell_type": "markdown",
   "metadata": {},
   "source": [
    "You can also use the replace method to replace values based on conditions. For example, to replace all values greater than a certain threshold:"
   ]
  },
  {
   "cell_type": "code",
   "execution_count": 12,
   "metadata": {},
   "outputs": [
    {
     "name": "stdout",
     "output_type": "stream",
     "text": [
      "     A   B    C\n",
      "0  100  80    9\n",
      "1  200   6  100\n",
      "2    3   7   11\n",
      "3    4   8   12\n",
      "4    5  80   13\n"
     ]
    }
   ],
   "source": [
    "# Replace values greater than 8 in column 'B' with 80\n",
    "df['B'] = df['B'].apply(lambda x: 80 if x > 8 else x)\n",
    "\n",
    "print(df)"
   ]
  }
 ],
 "metadata": {
  "kernelspec": {
   "display_name": "base",
   "language": "python",
   "name": "python3"
  },
  "language_info": {
   "codemirror_mode": {
    "name": "ipython",
    "version": 3
   },
   "file_extension": ".py",
   "mimetype": "text/x-python",
   "name": "python",
   "nbconvert_exporter": "python",
   "pygments_lexer": "ipython3",
   "version": "3.12.4"
  }
 },
 "nbformat": 4,
 "nbformat_minor": 2
}
