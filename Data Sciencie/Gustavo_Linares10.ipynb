{
 "cells": [
  {
   "cell_type": "markdown",
   "metadata": {},
   "source": [
    "## Modify a DataFrame /w Pandas **Gym_Time**\n",
    "* **Tukey Intermediate**\n",
    "\n",
    "> Oct 10°, 2024"
   ]
  },
  {
   "cell_type": "markdown",
   "metadata": {},
   "source": [
    "#### Using **chocolate.csv** answer the following questions:"
   ]
  },
  {
   "cell_type": "code",
   "execution_count": 4,
   "metadata": {},
   "outputs": [
    {
     "name": "stdout",
     "output_type": "stream",
     "text": [
      "       ref company_manufacturer company_location  review_date  \\\n",
      "0     2454                 5150           U.S.A.         2019   \n",
      "1     2458                 5150           U.S.A.         2019   \n",
      "2     2454                 5150           U.S.A.         2019   \n",
      "3     2542                 5150           U.S.A.         2021   \n",
      "4     2546                 5150           U.S.A.         2021   \n",
      "...    ...                  ...              ...          ...   \n",
      "2525  1205               Zotter          Austria         2014   \n",
      "2526  1996               Zotter          Austria         2017   \n",
      "2527  2036               Zotter          Austria         2018   \n",
      "2528  2170               Zotter          Austria         2018   \n",
      "2529  2170               Zotter          Austria         2018   \n",
      "\n",
      "     country_of_bean_origin specific_bean_origin_or_bar_name cocoa_percent  \\\n",
      "0                  Tanzania            Kokoa Kamili, batch 1           76%   \n",
      "1        Dominican Republic                  Zorzal, batch 1           76%   \n",
      "2                Madagascar           Bejofo Estate, batch 1           76%   \n",
      "3                      Fiji            Matasawalevu, batch 1           68%   \n",
      "4                 Venezuela            Sur del Lago, batch 1           72%   \n",
      "...                     ...                              ...           ...   \n",
      "2525                  Blend                              Raw           80%   \n",
      "2526               Colombia                 APROCAFA, Acandi           75%   \n",
      "2527                  Blend  Dry Aged, 30 yr Anniversary bar           75%   \n",
      "2528                  Congo            Mountains of the Moon           70%   \n",
      "2529                 Belize                         Maya Mtn           72%   \n",
      "\n",
      "       ingredients     most_memorable_characteristics  rating  \n",
      "0         3- B,S,C          rich cocoa, fatty, bready    3.25  \n",
      "1         3- B,S,C             cocoa, vegetal, savory    3.50  \n",
      "2         3- B,S,C       cocoa, blackberry, full body    3.75  \n",
      "3         3- B,S,C                chewy, off, rubbery    3.00  \n",
      "4         3- B,S,C  fatty, earthy, moss, nutty,chalky    3.00  \n",
      "...            ...                                ...     ...  \n",
      "2525  4- B,S*,C,Sa             waxy, cloying, vegetal    2.75  \n",
      "2526      3- B,S,C          strong nutty, marshmallow    3.75  \n",
      "2527      3- B,S,C               fatty, earthy, cocoa    3.00  \n",
      "2528      3- B,S,C       fatty, mild nuts, mild fruit    3.25  \n",
      "2529      3- B,S,C          muted, roasty, accessible    3.50  \n",
      "\n",
      "[2530 rows x 10 columns]\n"
     ]
    }
   ],
   "source": [
    "import pandas as pd\n",
    "\n",
    "choco = pd.read_csv(\"../chocolate.csv\")\n",
    "print(choco)"
   ]
  },
  {
   "cell_type": "markdown",
   "metadata": {},
   "source": [
    "##### **a.** Show me only the chocolates made by companies in France and Mexico"
   ]
  },
  {
   "cell_type": "code",
   "execution_count": 9,
   "metadata": {},
   "outputs": [
    {
     "name": "stdout",
     "output_type": "stream",
     "text": [
      "       ref  company_manufacturer company_location  review_date  \\\n",
      "7      797              A. Morin           France         2012   \n",
      "8      797              A. Morin           France         2012   \n",
      "9     1011              A. Morin           France         2013   \n",
      "10    1015              A. Morin           France         2013   \n",
      "11    1011              A. Morin           France         2013   \n",
      "...    ...                   ...              ...          ...   \n",
      "2396  1145              Valrhona           France         2013   \n",
      "2397  1153              Valrhona           France         2013   \n",
      "2398  1510              Valrhona           France         2015   \n",
      "2399  1972              Valrhona           France         2017   \n",
      "2422   951  Vietcacao (A. Morin)           France         2012   \n",
      "\n",
      "     country_of_bean_origin specific_bean_origin_or_bar_name cocoa_percent  \\\n",
      "7                   Bolivia                          Bolivia           70%   \n",
      "8                      Peru                             Peru           63%   \n",
      "9                    Panama                           Panama           70%   \n",
      "10                 Colombia                         Colombie           70%   \n",
      "11               Madagascar              Madagascar, Criollo           70%   \n",
      "...                     ...                              ...           ...   \n",
      "2396                  Blend           Andoa, Grand Cru blend           70%   \n",
      "2397     Dominican Republic             Loma Sotavento, 2013           64%   \n",
      "2398                   Peru         Piura, Illanka, Quemazon           63%   \n",
      "2399                  Blend           Oriado, Peru, Dom. Rep           60%   \n",
      "2422                Vietnam     Ben Tre, Mekong Delta, MoCay           70%   \n",
      "\n",
      "       ingredients   most_memorable_characteristics  rating  \n",
      "7       4- B,S,C,L                   vegetal, nutty    3.50  \n",
      "8       4- B,S,C,L            fruity, melon, roasty    3.75  \n",
      "9       4- B,S,C,L  brief fruit note, earthy, nutty    2.75  \n",
      "10      4- B,S,C,L     burnt rubber,alkalyzed notes    2.75  \n",
      "11      4- B,S,C,L          sticky, red fruit, sour    3.00  \n",
      "...            ...                              ...     ...  \n",
      "2396  5- B,S,C,V,L          yogurt, lemon, licorice    3.50  \n",
      "2397  5- B,S,C,V,L     complex, herbs, fruit, dairy    3.50  \n",
      "2398  5- B,S,C,V,L      intense, dark berry, grapes    4.00  \n",
      "2399      3- B,S,C             intense, rich, sweet    3.25  \n",
      "2422    4- B,S,C,L                     spicy, dairy    3.50  \n",
      "\n",
      "[186 rows x 10 columns]\n"
     ]
    }
   ],
   "source": [
    "# Filtrar por columna usando corchetes\n",
    "choco_france_mexico = choco[(choco['company_location'] == 'France') | (choco['company_location'] == 'Mexico')]\n",
    "print(choco_france_mexico)\n"
   ]
  },
  {
   "cell_type": "markdown",
   "metadata": {},
   "source": [
    "##### **b.** Show me only the chocolates with a percent of chocolate more than 75%"
   ]
  },
  {
   "cell_type": "code",
   "execution_count": 20,
   "metadata": {},
   "outputs": [
    {
     "name": "stdout",
     "output_type": "stream",
     "text": [
      "       ref company_manufacturer company_location  review_date  \\\n",
      "0     2454                 5150           U.S.A.         2019   \n",
      "1     2458                 5150           U.S.A.         2019   \n",
      "2     2454                 5150           U.S.A.         2019   \n",
      "4     2546                 5150           U.S.A.         2021   \n",
      "5     2546                 5150           U.S.A.         2021   \n",
      "...    ...                  ...              ...          ...   \n",
      "2519   801               Zotter          Austria         2012   \n",
      "2525  1205               Zotter          Austria         2014   \n",
      "2526  1996               Zotter          Austria         2017   \n",
      "2527  2036               Zotter          Austria         2018   \n",
      "2529  2170               Zotter          Austria         2018   \n",
      "\n",
      "     country_of_bean_origin specific_bean_origin_or_bar_name cocoa_percent  \\\n",
      "0                  Tanzania            Kokoa Kamili, batch 1           76%   \n",
      "1        Dominican Republic                  Zorzal, batch 1           76%   \n",
      "2                Madagascar           Bejofo Estate, batch 1           76%   \n",
      "4                 Venezuela            Sur del Lago, batch 1           72%   \n",
      "5                    Uganda         Semuliki Forest, batch 1           80%   \n",
      "...                     ...                              ...           ...   \n",
      "2519                 Panama     Bocas del Toro, Cocabo Co-op           72%   \n",
      "2525                  Blend                              Raw           80%   \n",
      "2526               Colombia                 APROCAFA, Acandi           75%   \n",
      "2527                  Blend  Dry Aged, 30 yr Anniversary bar           75%   \n",
      "2529                 Belize                         Maya Mtn           72%   \n",
      "\n",
      "       ingredients     most_memorable_characteristics  rating  \n",
      "0         3- B,S,C          rich cocoa, fatty, bready    3.25  \n",
      "1         3- B,S,C             cocoa, vegetal, savory    3.50  \n",
      "2         3- B,S,C       cocoa, blackberry, full body    3.75  \n",
      "4         3- B,S,C  fatty, earthy, moss, nutty,chalky    3.00  \n",
      "5         3- B,S,C  mildly bitter, basic cocoa, fatty    3.25  \n",
      "...            ...                                ...     ...  \n",
      "2519  4- B,S*,C,Sa       oily, earthy, caramel, salty    3.50  \n",
      "2525  4- B,S*,C,Sa             waxy, cloying, vegetal    2.75  \n",
      "2526      3- B,S,C          strong nutty, marshmallow    3.75  \n",
      "2527      3- B,S,C               fatty, earthy, cocoa    3.00  \n",
      "2529      3- B,S,C          muted, roasty, accessible    3.50  \n",
      "\n",
      "[1098 rows x 10 columns]\n"
     ]
    }
   ],
   "source": [
    "# Here your code\n",
    "choco_porcent = choco['cocoa_percent'].str.replace('%', '').astype(float) > 70\n",
    "choco_porcent = choco[choco_porcent]\n",
    "print(choco_porcent)"
   ]
  },
  {
   "cell_type": "markdown",
   "metadata": {},
   "source": [
    "##### **c.** Delete **ref** column"
   ]
  },
  {
   "cell_type": "code",
   "execution_count": 23,
   "metadata": {},
   "outputs": [
    {
     "name": "stdout",
     "output_type": "stream",
     "text": [
      "  company_manufacturer company_location  review_date country_of_bean_origin  \\\n",
      "0                 5150           U.S.A.         2019               Tanzania   \n",
      "1                 5150           U.S.A.         2019     Dominican Republic   \n",
      "2                 5150           U.S.A.         2019             Madagascar   \n",
      "3                 5150           U.S.A.         2021                   Fiji   \n",
      "4                 5150           U.S.A.         2021              Venezuela   \n",
      "\n",
      "  specific_bean_origin_or_bar_name cocoa_percent ingredients  \\\n",
      "0            Kokoa Kamili, batch 1           76%    3- B,S,C   \n",
      "1                  Zorzal, batch 1           76%    3- B,S,C   \n",
      "2           Bejofo Estate, batch 1           76%    3- B,S,C   \n",
      "3            Matasawalevu, batch 1           68%    3- B,S,C   \n",
      "4            Sur del Lago, batch 1           72%    3- B,S,C   \n",
      "\n",
      "      most_memorable_characteristics  rating  \n",
      "0          rich cocoa, fatty, bready    3.25  \n",
      "1             cocoa, vegetal, savory    3.50  \n",
      "2       cocoa, blackberry, full body    3.75  \n",
      "3                chewy, off, rubbery    3.00  \n",
      "4  fatty, earthy, moss, nutty,chalky    3.00  \n"
     ]
    }
   ],
   "source": [
    "# Here your code\n",
    "choco_ref = choco.drop('ref', axis=1)\n",
    "print(choco_ref.head())"
   ]
  },
  {
   "cell_type": "markdown",
   "metadata": {},
   "source": [
    "##### **d.** Add a new column called **'Review_Age'** that shows how many years have been passed since it's review date"
   ]
  },
  {
   "cell_type": "code",
   "execution_count": 30,
   "metadata": {},
   "outputs": [
    {
     "name": "stdout",
     "output_type": "stream",
     "text": [
      "    ref company_manufacturer company_location  review_date  \\\n",
      "0  2454                 5150           U.S.A.         2019   \n",
      "1  2458                 5150           U.S.A.         2019   \n",
      "2  2454                 5150           U.S.A.         2019   \n",
      "3  2542                 5150           U.S.A.         2021   \n",
      "4  2546                 5150           U.S.A.         2021   \n",
      "\n",
      "  country_of_bean_origin specific_bean_origin_or_bar_name cocoa_percent  \\\n",
      "0               Tanzania            Kokoa Kamili, batch 1           76%   \n",
      "1     Dominican Republic                  Zorzal, batch 1           76%   \n",
      "2             Madagascar           Bejofo Estate, batch 1           76%   \n",
      "3                   Fiji            Matasawalevu, batch 1           68%   \n",
      "4              Venezuela            Sur del Lago, batch 1           72%   \n",
      "\n",
      "  ingredients     most_memorable_characteristics  rating  Review_Age  \n",
      "0    3- B,S,C          rich cocoa, fatty, bready    3.25           5  \n",
      "1    3- B,S,C             cocoa, vegetal, savory    3.50           5  \n",
      "2    3- B,S,C       cocoa, blackberry, full body    3.75           5  \n",
      "3    3- B,S,C                chewy, off, rubbery    3.00           3  \n",
      "4    3- B,S,C  fatty, earthy, moss, nutty,chalky    3.00           3  \n"
     ]
    }
   ],
   "source": [
    "# Here your code\n",
    "newChoco = choco['Review_Age'] = 2024 - choco['review_date']\n",
    "print(choco.head())"
   ]
  },
  {
   "cell_type": "markdown",
   "metadata": {},
   "source": [
    "##### **e.** Delte all rows that have null values on **'ingredients'** columns"
   ]
  },
  {
   "cell_type": "code",
   "execution_count": 46,
   "metadata": {},
   "outputs": [
    {
     "name": "stdout",
     "output_type": "stream",
     "text": [
      "       ref company_manufacturer company_location  review_date  \\\n",
      "0     2454                 5150           U.S.A.         2019   \n",
      "1     2458                 5150           U.S.A.         2019   \n",
      "2     2454                 5150           U.S.A.         2019   \n",
      "3     2542                 5150           U.S.A.         2021   \n",
      "4     2546                 5150           U.S.A.         2021   \n",
      "...    ...                  ...              ...          ...   \n",
      "2525  1205               Zotter          Austria         2014   \n",
      "2526  1996               Zotter          Austria         2017   \n",
      "2527  2036               Zotter          Austria         2018   \n",
      "2528  2170               Zotter          Austria         2018   \n",
      "2529  2170               Zotter          Austria         2018   \n",
      "\n",
      "     country_of_bean_origin specific_bean_origin_or_bar_name cocoa_percent  \\\n",
      "0                  Tanzania            Kokoa Kamili, batch 1           76%   \n",
      "1        Dominican Republic                  Zorzal, batch 1           76%   \n",
      "2                Madagascar           Bejofo Estate, batch 1           76%   \n",
      "3                      Fiji            Matasawalevu, batch 1           68%   \n",
      "4                 Venezuela            Sur del Lago, batch 1           72%   \n",
      "...                     ...                              ...           ...   \n",
      "2525                  Blend                              Raw           80%   \n",
      "2526               Colombia                 APROCAFA, Acandi           75%   \n",
      "2527                  Blend  Dry Aged, 30 yr Anniversary bar           75%   \n",
      "2528                  Congo            Mountains of the Moon           70%   \n",
      "2529                 Belize                         Maya Mtn           72%   \n",
      "\n",
      "       ingredients     most_memorable_characteristics  rating  Review_Age  \n",
      "0         3- B,S,C          rich cocoa, fatty, bready    3.25           5  \n",
      "1         3- B,S,C             cocoa, vegetal, savory    3.50           5  \n",
      "2         3- B,S,C       cocoa, blackberry, full body    3.75           5  \n",
      "3         3- B,S,C                chewy, off, rubbery    3.00           3  \n",
      "4         3- B,S,C  fatty, earthy, moss, nutty,chalky    3.00           3  \n",
      "...            ...                                ...     ...         ...  \n",
      "2525  4- B,S*,C,Sa             waxy, cloying, vegetal    2.75          10  \n",
      "2526      3- B,S,C          strong nutty, marshmallow    3.75           7  \n",
      "2527      3- B,S,C               fatty, earthy, cocoa    3.00           6  \n",
      "2528      3- B,S,C       fatty, mild nuts, mild fruit    3.25           6  \n",
      "2529      3- B,S,C          muted, roasty, accessible    3.50           6  \n",
      "\n",
      "[2443 rows x 11 columns]\n"
     ]
    }
   ],
   "source": [
    "# Here your codeß\n",
    "choco_without_null = choco.dropna(subset=['ingredients'])\n",
    "print(choco_without_null)"
   ]
  },
  {
   "cell_type": "markdown",
   "metadata": {},
   "source": [
    "##### **f.** Split **'specific_bean_origin_or_bar_name'** into **'specific_bean_origin'** and **'bar_name'** and drop the first mentioned column"
   ]
  },
  {
   "cell_type": "code",
   "execution_count": 56,
   "metadata": {},
   "outputs": [
    {
     "ename": "KeyError",
     "evalue": "'specific_bean_origin_or_bar_name'",
     "output_type": "error",
     "traceback": [
      "\u001b[1;31m---------------------------------------------------------------------------\u001b[0m",
      "\u001b[1;31mKeyError\u001b[0m                                  Traceback (most recent call last)",
      "File \u001b[1;32mc:\\Users\\LINKZ\\AppData\\Local\\Programs\\Python\\Python312\\Lib\\site-packages\\pandas\\core\\indexes\\base.py:3805\u001b[0m, in \u001b[0;36mIndex.get_loc\u001b[1;34m(self, key)\u001b[0m\n\u001b[0;32m   3804\u001b[0m \u001b[38;5;28;01mtry\u001b[39;00m:\n\u001b[1;32m-> 3805\u001b[0m     \u001b[38;5;28;01mreturn\u001b[39;00m \u001b[38;5;28;43mself\u001b[39;49m\u001b[38;5;241;43m.\u001b[39;49m\u001b[43m_engine\u001b[49m\u001b[38;5;241;43m.\u001b[39;49m\u001b[43mget_loc\u001b[49m\u001b[43m(\u001b[49m\u001b[43mcasted_key\u001b[49m\u001b[43m)\u001b[49m\n\u001b[0;32m   3806\u001b[0m \u001b[38;5;28;01mexcept\u001b[39;00m \u001b[38;5;167;01mKeyError\u001b[39;00m \u001b[38;5;28;01mas\u001b[39;00m err:\n",
      "File \u001b[1;32mindex.pyx:167\u001b[0m, in \u001b[0;36mpandas._libs.index.IndexEngine.get_loc\u001b[1;34m()\u001b[0m\n",
      "File \u001b[1;32mindex.pyx:196\u001b[0m, in \u001b[0;36mpandas._libs.index.IndexEngine.get_loc\u001b[1;34m()\u001b[0m\n",
      "File \u001b[1;32mpandas\\\\_libs\\\\hashtable_class_helper.pxi:7081\u001b[0m, in \u001b[0;36mpandas._libs.hashtable.PyObjectHashTable.get_item\u001b[1;34m()\u001b[0m\n",
      "File \u001b[1;32mpandas\\\\_libs\\\\hashtable_class_helper.pxi:7089\u001b[0m, in \u001b[0;36mpandas._libs.hashtable.PyObjectHashTable.get_item\u001b[1;34m()\u001b[0m\n",
      "\u001b[1;31mKeyError\u001b[0m: 'specific_bean_origin_or_bar_name'",
      "\nThe above exception was the direct cause of the following exception:\n",
      "\u001b[1;31mKeyError\u001b[0m                                  Traceback (most recent call last)",
      "Cell \u001b[1;32mIn[56], line 1\u001b[0m\n\u001b[1;32m----> 1\u001b[0m choco[[\u001b[38;5;124m'\u001b[39m\u001b[38;5;124mspecific_bean_origin\u001b[39m\u001b[38;5;124m'\u001b[39m, \u001b[38;5;124m'\u001b[39m\u001b[38;5;124mbar_name\u001b[39m\u001b[38;5;124m'\u001b[39m]] \u001b[38;5;241m=\u001b[39m \u001b[43mchoco\u001b[49m\u001b[43m[\u001b[49m\u001b[38;5;124;43m'\u001b[39;49m\u001b[38;5;124;43mspecific_bean_origin_or_bar_name\u001b[39;49m\u001b[38;5;124;43m'\u001b[39;49m\u001b[43m]\u001b[49m\u001b[38;5;241m.\u001b[39mstr\u001b[38;5;241m.\u001b[39msplit(\u001b[38;5;124m'\u001b[39m\u001b[38;5;124m,\u001b[39m\u001b[38;5;124m'\u001b[39m, n\u001b[38;5;241m=\u001b[39m\u001b[38;5;241m1\u001b[39m, expand\u001b[38;5;241m=\u001b[39m\u001b[38;5;28;01mTrue\u001b[39;00m)\n\u001b[0;32m      3\u001b[0m choco \u001b[38;5;241m=\u001b[39m choco\u001b[38;5;241m.\u001b[39mdrop(columns\u001b[38;5;241m=\u001b[39m[\u001b[38;5;124m'\u001b[39m\u001b[38;5;124mspecific_bean_origin_or_bar_name\u001b[39m\u001b[38;5;124m'\u001b[39m])\n\u001b[0;32m      4\u001b[0m \u001b[38;5;28mprint\u001b[39m(choco)\n",
      "File \u001b[1;32mc:\\Users\\LINKZ\\AppData\\Local\\Programs\\Python\\Python312\\Lib\\site-packages\\pandas\\core\\frame.py:4102\u001b[0m, in \u001b[0;36mDataFrame.__getitem__\u001b[1;34m(self, key)\u001b[0m\n\u001b[0;32m   4100\u001b[0m \u001b[38;5;28;01mif\u001b[39;00m \u001b[38;5;28mself\u001b[39m\u001b[38;5;241m.\u001b[39mcolumns\u001b[38;5;241m.\u001b[39mnlevels \u001b[38;5;241m>\u001b[39m \u001b[38;5;241m1\u001b[39m:\n\u001b[0;32m   4101\u001b[0m     \u001b[38;5;28;01mreturn\u001b[39;00m \u001b[38;5;28mself\u001b[39m\u001b[38;5;241m.\u001b[39m_getitem_multilevel(key)\n\u001b[1;32m-> 4102\u001b[0m indexer \u001b[38;5;241m=\u001b[39m \u001b[38;5;28;43mself\u001b[39;49m\u001b[38;5;241;43m.\u001b[39;49m\u001b[43mcolumns\u001b[49m\u001b[38;5;241;43m.\u001b[39;49m\u001b[43mget_loc\u001b[49m\u001b[43m(\u001b[49m\u001b[43mkey\u001b[49m\u001b[43m)\u001b[49m\n\u001b[0;32m   4103\u001b[0m \u001b[38;5;28;01mif\u001b[39;00m is_integer(indexer):\n\u001b[0;32m   4104\u001b[0m     indexer \u001b[38;5;241m=\u001b[39m [indexer]\n",
      "File \u001b[1;32mc:\\Users\\LINKZ\\AppData\\Local\\Programs\\Python\\Python312\\Lib\\site-packages\\pandas\\core\\indexes\\base.py:3812\u001b[0m, in \u001b[0;36mIndex.get_loc\u001b[1;34m(self, key)\u001b[0m\n\u001b[0;32m   3807\u001b[0m     \u001b[38;5;28;01mif\u001b[39;00m \u001b[38;5;28misinstance\u001b[39m(casted_key, \u001b[38;5;28mslice\u001b[39m) \u001b[38;5;129;01mor\u001b[39;00m (\n\u001b[0;32m   3808\u001b[0m         \u001b[38;5;28misinstance\u001b[39m(casted_key, abc\u001b[38;5;241m.\u001b[39mIterable)\n\u001b[0;32m   3809\u001b[0m         \u001b[38;5;129;01mand\u001b[39;00m \u001b[38;5;28many\u001b[39m(\u001b[38;5;28misinstance\u001b[39m(x, \u001b[38;5;28mslice\u001b[39m) \u001b[38;5;28;01mfor\u001b[39;00m x \u001b[38;5;129;01min\u001b[39;00m casted_key)\n\u001b[0;32m   3810\u001b[0m     ):\n\u001b[0;32m   3811\u001b[0m         \u001b[38;5;28;01mraise\u001b[39;00m InvalidIndexError(key)\n\u001b[1;32m-> 3812\u001b[0m     \u001b[38;5;28;01mraise\u001b[39;00m \u001b[38;5;167;01mKeyError\u001b[39;00m(key) \u001b[38;5;28;01mfrom\u001b[39;00m \u001b[38;5;21;01merr\u001b[39;00m\n\u001b[0;32m   3813\u001b[0m \u001b[38;5;28;01mexcept\u001b[39;00m \u001b[38;5;167;01mTypeError\u001b[39;00m:\n\u001b[0;32m   3814\u001b[0m     \u001b[38;5;66;03m# If we have a listlike key, _check_indexing_error will raise\u001b[39;00m\n\u001b[0;32m   3815\u001b[0m     \u001b[38;5;66;03m#  InvalidIndexError. Otherwise we fall through and re-raise\u001b[39;00m\n\u001b[0;32m   3816\u001b[0m     \u001b[38;5;66;03m#  the TypeError.\u001b[39;00m\n\u001b[0;32m   3817\u001b[0m     \u001b[38;5;28mself\u001b[39m\u001b[38;5;241m.\u001b[39m_check_indexing_error(key)\n",
      "\u001b[1;31mKeyError\u001b[0m: 'specific_bean_origin_or_bar_name'"
     ]
    }
   ],
   "source": [
    "choco[['specific_bean_origin', 'bar_name']] = choco['specific_bean_origin_or_bar_name'].str.split(',', n=1, expand=True)\n",
    "\n",
    "choco = choco.drop(columns=['specific_bean_origin_or_bar_name'])\n",
    "print(choco)"
   ]
  },
  {
   "cell_type": "markdown",
   "metadata": {},
   "source": [
    "##### **g.** Order the cholates by rating, ascending"
   ]
  },
  {
   "cell_type": "code",
   "execution_count": 57,
   "metadata": {},
   "outputs": [
    {
     "name": "stdout",
     "output_type": "stream",
     "text": [
      "       ref     company_manufacturer company_location  review_date  \\\n",
      "1679   135      Neuhaus (Callebaut)          Belgium         2007   \n",
      "632     48       Cote d' Or (Kraft)          Belgium         2006   \n",
      "430    141                Callebaut          Belgium         2007   \n",
      "590    252          Claudio Corallo         Sao Tome         2008   \n",
      "426    259  Cacaoyere (Ecuatoriana)          Ecuador         2008   \n",
      "...    ...                      ...              ...          ...   \n",
      "19    1019                 A. Morin           France         2013   \n",
      "18    1015                 A. Morin           France         2013   \n",
      "753   2656              Dick Taylor           U.S.A.         2021   \n",
      "1538  1177                   Matale        Australia         2013   \n",
      "1537  1177                   Matale        Australia         2013   \n",
      "\n",
      "     country_of_bean_origin cocoa_percent   ingredients  \\\n",
      "1679                  Blend           73%  5- B,S,C,V,L   \n",
      "632                   Blend           70%           NaN   \n",
      "430                 Ecuador           70%           NaN   \n",
      "590                   Blend          100%           NaN   \n",
      "426                 Ecuador           91%    4- B,S,C,L   \n",
      "...                     ...           ...           ...   \n",
      "19                     Peru           63%      3- B,S,C   \n",
      "18                Venezuela           70%    4- B,S,C,L   \n",
      "753                  Mexico           72%        2- B,S   \n",
      "1538       Papua New Guinea           74%      3- B,S,C   \n",
      "1537             Madagascar           68%      3- B,S,C   \n",
      "\n",
      "            most_memorable_characteristics  rating  Review_Age  \\\n",
      "1679             pastey, strong off flavor     1.0          17   \n",
      "632                  this is not chocolate     1.0          18   \n",
      "430                          bitter, cocoa     1.0          17   \n",
      "590             chalky, musty, very bitter     1.0          16   \n",
      "426     klingy, hint of fruit, very bitter     1.5          16   \n",
      "...                                    ...     ...         ...   \n",
      "19                 sweet, cocoa, tangerine     4.0          11   \n",
      "18           oily, nut, caramel, raspberry     4.0          11   \n",
      "753   dried fruit, fig, astringent, sticky     4.0           3   \n",
      "1538            creamy, grassy, smoke, nut     4.0          11   \n",
      "1537                     sticky, red fruit     4.0          11   \n",
      "\n",
      "      specific_bean_origin                         bar_name  \n",
      "1679                  Dark                             None  \n",
      "632     Sensations Intense                             None  \n",
      "430                 Baking                             None  \n",
      "590               Principe              Sao Tome & Principe  \n",
      "426              Pichincha                             None  \n",
      "...                    ...                              ...  \n",
      "19    Chanchamayo Province                             None  \n",
      "18                   Chuao                             None  \n",
      "753              Soconusco   Rayen Cacao Co-op, batch 21154  \n",
      "1538             Kulili P.                             2013  \n",
      "1537                 Somia                             2013  \n",
      "\n",
      "[2530 rows x 12 columns]\n"
     ]
    }
   ],
   "source": [
    "# Here your codeß\n",
    "choco_sorted = choco.sort_values(by='rating', ascending=True)\n",
    "print(choco_sorted)"
   ]
  }
 ],
 "metadata": {
  "kernelspec": {
   "display_name": "Python 3",
   "language": "python",
   "name": "python3"
  },
  "language_info": {
   "codemirror_mode": {
    "name": "ipython",
    "version": 3
   },
   "file_extension": ".py",
   "mimetype": "text/x-python",
   "name": "python",
   "nbconvert_exporter": "python",
   "pygments_lexer": "ipython3",
   "version": "3.12.4"
  }
 },
 "nbformat": 4,
 "nbformat_minor": 2
}
