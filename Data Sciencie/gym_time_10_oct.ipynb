{
 "cells": [
  {
   "cell_type": "markdown",
   "metadata": {},
   "source": [
    "## Modify a DataFrame /w Pandas **Gym_Time**\n",
    "* **Tukey Intermediate**\n",
    "\n",
    "> Oct 10°, 2024"
   ]
  },
  {
   "cell_type": "markdown",
   "metadata": {},
   "source": [
    "#### Using **chocolate.csv** answer the following questions:"
   ]
  },
  {
   "cell_type": "code",
   "execution_count": 4,
   "metadata": {},
   "outputs": [
    {
     "name": "stdout",
     "output_type": "stream",
     "text": [
      "       ref company_manufacturer company_location  review_date  \\\n",
      "0     2454                 5150           U.S.A.         2019   \n",
      "1     2458                 5150           U.S.A.         2019   \n",
      "2     2454                 5150           U.S.A.         2019   \n",
      "3     2542                 5150           U.S.A.         2021   \n",
      "4     2546                 5150           U.S.A.         2021   \n",
      "...    ...                  ...              ...          ...   \n",
      "2525  1205               Zotter          Austria         2014   \n",
      "2526  1996               Zotter          Austria         2017   \n",
      "2527  2036               Zotter          Austria         2018   \n",
      "2528  2170               Zotter          Austria         2018   \n",
      "2529  2170               Zotter          Austria         2018   \n",
      "\n",
      "     country_of_bean_origin specific_bean_origin_or_bar_name cocoa_percent  \\\n",
      "0                  Tanzania            Kokoa Kamili, batch 1           76%   \n",
      "1        Dominican Republic                  Zorzal, batch 1           76%   \n",
      "2                Madagascar           Bejofo Estate, batch 1           76%   \n",
      "3                      Fiji            Matasawalevu, batch 1           68%   \n",
      "4                 Venezuela            Sur del Lago, batch 1           72%   \n",
      "...                     ...                              ...           ...   \n",
      "2525                  Blend                              Raw           80%   \n",
      "2526               Colombia                 APROCAFA, Acandi           75%   \n",
      "2527                  Blend  Dry Aged, 30 yr Anniversary bar           75%   \n",
      "2528                  Congo            Mountains of the Moon           70%   \n",
      "2529                 Belize                         Maya Mtn           72%   \n",
      "\n",
      "       ingredients     most_memorable_characteristics  rating  \n",
      "0         3- B,S,C          rich cocoa, fatty, bready    3.25  \n",
      "1         3- B,S,C             cocoa, vegetal, savory    3.50  \n",
      "2         3- B,S,C       cocoa, blackberry, full body    3.75  \n",
      "3         3- B,S,C                chewy, off, rubbery    3.00  \n",
      "4         3- B,S,C  fatty, earthy, moss, nutty,chalky    3.00  \n",
      "...            ...                                ...     ...  \n",
      "2525  4- B,S*,C,Sa             waxy, cloying, vegetal    2.75  \n",
      "2526      3- B,S,C          strong nutty, marshmallow    3.75  \n",
      "2527      3- B,S,C               fatty, earthy, cocoa    3.00  \n",
      "2528      3- B,S,C       fatty, mild nuts, mild fruit    3.25  \n",
      "2529      3- B,S,C          muted, roasty, accessible    3.50  \n",
      "\n",
      "[2530 rows x 10 columns]\n"
     ]
    }
   ],
   "source": [
    "import pandas as pd\n",
    "\n",
    "choco = pd.read_csv(\"../chocolate.csv\")\n",
    "print(choco)"
   ]
  },
  {
   "cell_type": "markdown",
   "metadata": {},
   "source": [
    "##### **a.** Show me only the chocolates made by companies in France and Mexico"
   ]
  },
  {
   "cell_type": "code",
   "execution_count": 8,
   "metadata": {},
   "outputs": [
    {
     "name": "stdout",
     "output_type": "stream",
     "text": [
      "       ref  company_manufacturer company_location  review_date  \\\n",
      "7      797              A. Morin           France         2012   \n",
      "8      797              A. Morin           France         2012   \n",
      "9     1011              A. Morin           France         2013   \n",
      "10    1015              A. Morin           France         2013   \n",
      "11    1011              A. Morin           France         2013   \n",
      "...    ...                   ...              ...          ...   \n",
      "2396  1145              Valrhona           France         2013   \n",
      "2397  1153              Valrhona           France         2013   \n",
      "2398  1510              Valrhona           France         2015   \n",
      "2399  1972              Valrhona           France         2017   \n",
      "2422   951  Vietcacao (A. Morin)           France         2012   \n",
      "\n",
      "     country_of_bean_origin specific_bean_origin_or_bar_name cocoa_percent  \\\n",
      "7                   Bolivia                          Bolivia           70%   \n",
      "8                      Peru                             Peru           63%   \n",
      "9                    Panama                           Panama           70%   \n",
      "10                 Colombia                         Colombie           70%   \n",
      "11               Madagascar              Madagascar, Criollo           70%   \n",
      "...                     ...                              ...           ...   \n",
      "2396                  Blend           Andoa, Grand Cru blend           70%   \n",
      "2397     Dominican Republic             Loma Sotavento, 2013           64%   \n",
      "2398                   Peru         Piura, Illanka, Quemazon           63%   \n",
      "2399                  Blend           Oriado, Peru, Dom. Rep           60%   \n",
      "2422                Vietnam     Ben Tre, Mekong Delta, MoCay           70%   \n",
      "\n",
      "       ingredients   most_memorable_characteristics  rating  \n",
      "7       4- B,S,C,L                   vegetal, nutty    3.50  \n",
      "8       4- B,S,C,L            fruity, melon, roasty    3.75  \n",
      "9       4- B,S,C,L  brief fruit note, earthy, nutty    2.75  \n",
      "10      4- B,S,C,L     burnt rubber,alkalyzed notes    2.75  \n",
      "11      4- B,S,C,L          sticky, red fruit, sour    3.00  \n",
      "...            ...                              ...     ...  \n",
      "2396  5- B,S,C,V,L          yogurt, lemon, licorice    3.50  \n",
      "2397  5- B,S,C,V,L     complex, herbs, fruit, dairy    3.50  \n",
      "2398  5- B,S,C,V,L      intense, dark berry, grapes    4.00  \n",
      "2399      3- B,S,C             intense, rich, sweet    3.25  \n",
      "2422    4- B,S,C,L                     spicy, dairy    3.50  \n",
      "\n",
      "[186 rows x 10 columns]\n",
      "       ref  company_manufacturer company_location  review_date  \\\n",
      "7      797              A. Morin           France         2012   \n",
      "8      797              A. Morin           France         2012   \n",
      "9     1011              A. Morin           France         2013   \n",
      "10    1015              A. Morin           France         2013   \n",
      "11    1011              A. Morin           France         2013   \n",
      "...    ...                   ...              ...          ...   \n",
      "2396  1145              Valrhona           France         2013   \n",
      "2397  1153              Valrhona           France         2013   \n",
      "2398  1510              Valrhona           France         2015   \n",
      "2399  1972              Valrhona           France         2017   \n",
      "2422   951  Vietcacao (A. Morin)           France         2012   \n",
      "\n",
      "     country_of_bean_origin specific_bean_origin_or_bar_name cocoa_percent  \\\n",
      "7                   Bolivia                          Bolivia           70%   \n",
      "8                      Peru                             Peru           63%   \n",
      "9                    Panama                           Panama           70%   \n",
      "10                 Colombia                         Colombie           70%   \n",
      "11               Madagascar              Madagascar, Criollo           70%   \n",
      "...                     ...                              ...           ...   \n",
      "2396                  Blend           Andoa, Grand Cru blend           70%   \n",
      "2397     Dominican Republic             Loma Sotavento, 2013           64%   \n",
      "2398                   Peru         Piura, Illanka, Quemazon           63%   \n",
      "2399                  Blend           Oriado, Peru, Dom. Rep           60%   \n",
      "2422                Vietnam     Ben Tre, Mekong Delta, MoCay           70%   \n",
      "\n",
      "       ingredients   most_memorable_characteristics  rating  \n",
      "7       4- B,S,C,L                   vegetal, nutty    3.50  \n",
      "8       4- B,S,C,L            fruity, melon, roasty    3.75  \n",
      "9       4- B,S,C,L  brief fruit note, earthy, nutty    2.75  \n",
      "10      4- B,S,C,L     burnt rubber,alkalyzed notes    2.75  \n",
      "11      4- B,S,C,L          sticky, red fruit, sour    3.00  \n",
      "...            ...                              ...     ...  \n",
      "2396  5- B,S,C,V,L          yogurt, lemon, licorice    3.50  \n",
      "2397  5- B,S,C,V,L     complex, herbs, fruit, dairy    3.50  \n",
      "2398  5- B,S,C,V,L      intense, dark berry, grapes    4.00  \n",
      "2399      3- B,S,C             intense, rich, sweet    3.25  \n",
      "2422    4- B,S,C,L                     spicy, dairy    3.50  \n",
      "\n",
      "[186 rows x 10 columns]\n"
     ]
    }
   ],
   "source": [
    "# Filtrar por columna usando corchetes\n",
    "choco_france_mexico = choco[(choco['company_location'] == 'France') | (choco['company_location'] == 'Mexico')]\n",
    "print(choco_france_mexico)\n",
    "\n",
    "# O usando el método query\n",
    "choco_france_mexico = choco.query(\"`company_location` == 'France' or `company_location` == 'Mexico'\")\n",
    "print(choco_france_mexico)"
   ]
  },
  {
   "cell_type": "markdown",
   "metadata": {},
   "source": [
    "##### **b.** Show me only the chocolates with a percent of chocolate more than 75%"
   ]
  },
  {
   "cell_type": "code",
   "execution_count": 9,
   "metadata": {},
   "outputs": [
    {
     "ename": "KeyError",
     "evalue": "'Cocoa Percent'",
     "output_type": "error",
     "traceback": [
      "\u001b[1;31m---------------------------------------------------------------------------\u001b[0m",
      "\u001b[1;31mKeyError\u001b[0m                                  Traceback (most recent call last)",
      "File \u001b[1;32mc:\\Users\\LINKZ\\AppData\\Local\\Programs\\Python\\Python312\\Lib\\site-packages\\pandas\\core\\indexes\\base.py:3805\u001b[0m, in \u001b[0;36mIndex.get_loc\u001b[1;34m(self, key)\u001b[0m\n\u001b[0;32m   3804\u001b[0m \u001b[38;5;28;01mtry\u001b[39;00m:\n\u001b[1;32m-> 3805\u001b[0m     \u001b[38;5;28;01mreturn\u001b[39;00m \u001b[38;5;28;43mself\u001b[39;49m\u001b[38;5;241;43m.\u001b[39;49m\u001b[43m_engine\u001b[49m\u001b[38;5;241;43m.\u001b[39;49m\u001b[43mget_loc\u001b[49m\u001b[43m(\u001b[49m\u001b[43mcasted_key\u001b[49m\u001b[43m)\u001b[49m\n\u001b[0;32m   3806\u001b[0m \u001b[38;5;28;01mexcept\u001b[39;00m \u001b[38;5;167;01mKeyError\u001b[39;00m \u001b[38;5;28;01mas\u001b[39;00m err:\n",
      "File \u001b[1;32mindex.pyx:167\u001b[0m, in \u001b[0;36mpandas._libs.index.IndexEngine.get_loc\u001b[1;34m()\u001b[0m\n",
      "File \u001b[1;32mindex.pyx:196\u001b[0m, in \u001b[0;36mpandas._libs.index.IndexEngine.get_loc\u001b[1;34m()\u001b[0m\n",
      "File \u001b[1;32mpandas\\\\_libs\\\\hashtable_class_helper.pxi:7081\u001b[0m, in \u001b[0;36mpandas._libs.hashtable.PyObjectHashTable.get_item\u001b[1;34m()\u001b[0m\n",
      "File \u001b[1;32mpandas\\\\_libs\\\\hashtable_class_helper.pxi:7089\u001b[0m, in \u001b[0;36mpandas._libs.hashtable.PyObjectHashTable.get_item\u001b[1;34m()\u001b[0m\n",
      "\u001b[1;31mKeyError\u001b[0m: 'Cocoa Percent'",
      "\nThe above exception was the direct cause of the following exception:\n",
      "\u001b[1;31mKeyError\u001b[0m                                  Traceback (most recent call last)",
      "Cell \u001b[1;32mIn[9], line 2\u001b[0m\n\u001b[0;32m      1\u001b[0m \u001b[38;5;66;03m# Here your code\u001b[39;00m\n\u001b[1;32m----> 2\u001b[0m choco_porcent \u001b[38;5;241m=\u001b[39m \u001b[43mchoco\u001b[49m\u001b[43m[\u001b[49m\u001b[38;5;124;43m'\u001b[39;49m\u001b[38;5;124;43mCocoa Percent\u001b[39;49m\u001b[38;5;124;43m'\u001b[39;49m\u001b[43m]\u001b[49m\u001b[38;5;241m.\u001b[39mstr\u001b[38;5;241m.\u001b[39mreplace(\u001b[38;5;124m'\u001b[39m\u001b[38;5;124m%\u001b[39m\u001b[38;5;124m'\u001b[39m, \u001b[38;5;124m'\u001b[39m\u001b[38;5;124m'\u001b[39m)\u001b[38;5;241m.\u001b[39mastype(\u001b[38;5;28mfloat\u001b[39m)\n",
      "File \u001b[1;32mc:\\Users\\LINKZ\\AppData\\Local\\Programs\\Python\\Python312\\Lib\\site-packages\\pandas\\core\\frame.py:4102\u001b[0m, in \u001b[0;36mDataFrame.__getitem__\u001b[1;34m(self, key)\u001b[0m\n\u001b[0;32m   4100\u001b[0m \u001b[38;5;28;01mif\u001b[39;00m \u001b[38;5;28mself\u001b[39m\u001b[38;5;241m.\u001b[39mcolumns\u001b[38;5;241m.\u001b[39mnlevels \u001b[38;5;241m>\u001b[39m \u001b[38;5;241m1\u001b[39m:\n\u001b[0;32m   4101\u001b[0m     \u001b[38;5;28;01mreturn\u001b[39;00m \u001b[38;5;28mself\u001b[39m\u001b[38;5;241m.\u001b[39m_getitem_multilevel(key)\n\u001b[1;32m-> 4102\u001b[0m indexer \u001b[38;5;241m=\u001b[39m \u001b[38;5;28;43mself\u001b[39;49m\u001b[38;5;241;43m.\u001b[39;49m\u001b[43mcolumns\u001b[49m\u001b[38;5;241;43m.\u001b[39;49m\u001b[43mget_loc\u001b[49m\u001b[43m(\u001b[49m\u001b[43mkey\u001b[49m\u001b[43m)\u001b[49m\n\u001b[0;32m   4103\u001b[0m \u001b[38;5;28;01mif\u001b[39;00m is_integer(indexer):\n\u001b[0;32m   4104\u001b[0m     indexer \u001b[38;5;241m=\u001b[39m [indexer]\n",
      "File \u001b[1;32mc:\\Users\\LINKZ\\AppData\\Local\\Programs\\Python\\Python312\\Lib\\site-packages\\pandas\\core\\indexes\\base.py:3812\u001b[0m, in \u001b[0;36mIndex.get_loc\u001b[1;34m(self, key)\u001b[0m\n\u001b[0;32m   3807\u001b[0m     \u001b[38;5;28;01mif\u001b[39;00m \u001b[38;5;28misinstance\u001b[39m(casted_key, \u001b[38;5;28mslice\u001b[39m) \u001b[38;5;129;01mor\u001b[39;00m (\n\u001b[0;32m   3808\u001b[0m         \u001b[38;5;28misinstance\u001b[39m(casted_key, abc\u001b[38;5;241m.\u001b[39mIterable)\n\u001b[0;32m   3809\u001b[0m         \u001b[38;5;129;01mand\u001b[39;00m \u001b[38;5;28many\u001b[39m(\u001b[38;5;28misinstance\u001b[39m(x, \u001b[38;5;28mslice\u001b[39m) \u001b[38;5;28;01mfor\u001b[39;00m x \u001b[38;5;129;01min\u001b[39;00m casted_key)\n\u001b[0;32m   3810\u001b[0m     ):\n\u001b[0;32m   3811\u001b[0m         \u001b[38;5;28;01mraise\u001b[39;00m InvalidIndexError(key)\n\u001b[1;32m-> 3812\u001b[0m     \u001b[38;5;28;01mraise\u001b[39;00m \u001b[38;5;167;01mKeyError\u001b[39;00m(key) \u001b[38;5;28;01mfrom\u001b[39;00m \u001b[38;5;21;01merr\u001b[39;00m\n\u001b[0;32m   3813\u001b[0m \u001b[38;5;28;01mexcept\u001b[39;00m \u001b[38;5;167;01mTypeError\u001b[39;00m:\n\u001b[0;32m   3814\u001b[0m     \u001b[38;5;66;03m# If we have a listlike key, _check_indexing_error will raise\u001b[39;00m\n\u001b[0;32m   3815\u001b[0m     \u001b[38;5;66;03m#  InvalidIndexError. Otherwise we fall through and re-raise\u001b[39;00m\n\u001b[0;32m   3816\u001b[0m     \u001b[38;5;66;03m#  the TypeError.\u001b[39;00m\n\u001b[0;32m   3817\u001b[0m     \u001b[38;5;28mself\u001b[39m\u001b[38;5;241m.\u001b[39m_check_indexing_error(key)\n",
      "\u001b[1;31mKeyError\u001b[0m: 'Cocoa Percent'"
     ]
    }
   ],
   "source": [
    "# Here your code\n",
    "choco_porcent = choco['Cocoa Percent'].str.replace('%', '').astype(float)"
   ]
  },
  {
   "cell_type": "markdown",
   "metadata": {},
   "source": [
    "##### **c.** Delete **ref** column"
   ]
  },
  {
   "cell_type": "code",
   "execution_count": null,
   "metadata": {},
   "outputs": [],
   "source": [
    "# Here your code\n",
    "choco_ref = choco.drop(columns=['ref'])\n",
    "print(choco_ref.head())"
   ]
  },
  {
   "cell_type": "markdown",
   "metadata": {},
   "source": [
    "##### **d.** Add a new column called **'Review_Age'** that shows how many years have been passed since it's review date"
   ]
  },
  {
   "cell_type": "code",
   "execution_count": null,
   "metadata": {},
   "outputs": [],
   "source": [
    "# Here your code\n",
    "newChoco = choco[{'Review_Age' : '2021-10-2'}]\n",
    "print(newChoco)"
   ]
  },
  {
   "cell_type": "markdown",
   "metadata": {},
   "source": [
    "##### **e.** Delte all rows that have null values on **'ingredients'** columns"
   ]
  },
  {
   "cell_type": "code",
   "execution_count": null,
   "metadata": {},
   "outputs": [],
   "source": [
    "# Here your codeß"
   ]
  },
  {
   "cell_type": "markdown",
   "metadata": {},
   "source": [
    "##### **f.** Split **'specific_bean_origin_or_bar_name'** into **'specific_bean_origin'** and **'bar_name'** and drop the first mentioned column"
   ]
  },
  {
   "cell_type": "code",
   "execution_count": null,
   "metadata": {},
   "outputs": [],
   "source": [
    "# Here your code"
   ]
  },
  {
   "cell_type": "markdown",
   "metadata": {},
   "source": [
    "##### **g.** Order the cholates by rating, ascending"
   ]
  },
  {
   "cell_type": "code",
   "execution_count": null,
   "metadata": {},
   "outputs": [],
   "source": [
    "# Here your codeß"
   ]
  }
 ],
 "metadata": {
  "kernelspec": {
   "display_name": "Python 3",
   "language": "python",
   "name": "python3"
  },
  "language_info": {
   "codemirror_mode": {
    "name": "ipython",
    "version": 3
   },
   "file_extension": ".py",
   "mimetype": "text/x-python",
   "name": "python",
   "nbconvert_exporter": "python",
   "pygments_lexer": "ipython3",
   "version": "3.12.4"
  }
 },
 "nbformat": 4,
 "nbformat_minor": 2
}
